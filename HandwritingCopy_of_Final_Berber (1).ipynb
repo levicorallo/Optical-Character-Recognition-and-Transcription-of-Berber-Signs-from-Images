{
  "cells": [
    {
      "cell_type": "markdown",
      "metadata": {
        "id": "E8hCO76eiaTU"
      },
      "source": [
        "<div style=\"text-align:center\"><h1>Berber detection from natural scenes </h1></div>\n",
        "\n",
        "---"
      ]
    },
    {
      "cell_type": "markdown",
      "metadata": {
        "id": "792fZdzVva9U"
      },
      "source": []
    },
    {
      "cell_type": "markdown",
      "metadata": {
        "id": "CACEY3QXpYdB"
      },
      "source": [
        "#google drive mount"
      ]
    },
    {
      "cell_type": "code",
      "execution_count": null,
      "metadata": {
        "colab": {
          "base_uri": "https://localhost:8080/"
        },
        "id": "wrxPNHSdpikm",
        "outputId": "7493f4ff-e0f0-44cf-f8df-9da00f27fdc2"
      },
      "outputs": [
        {
          "output_type": "stream",
          "name": "stdout",
          "text": [
            "Mounted at /content/drive\n"
          ]
        }
      ],
      "source": [
        " #please request dataset zip for further experimentation on Tifinagh characters in natural environments including self-taken photographs leviecorallo@gmail.com\n",
        "from google.colab import drive\n",
        "drive.mount('/content/drive')"
      ]
    },
    {
      "cell_type": "markdown",
      "metadata": {
        "id": "puJQ-cszpuEL"
      },
      "source": [
        "#### Imports\n"
      ]
    },
    {
      "cell_type": "code",
      "execution_count": null,
      "metadata": {
        "id": "kDPSleVSptAh"
      },
      "outputs": [],
      "source": [
        "#imports\n",
        "import os\n",
        "import numpy as np\n",
        "import cv2 as cv\n",
        "import random\n",
        "import pickle\n",
        "import time\n",
        "from datetime import timedelta\n",
        "import math\n",
        "# CNN imports\n",
        "import tensorflow as tf\n",
        "tf.config.run_functions_eagerly(True)\n",
        "tf.data.experimental.enable_debug_mode()\n",
        "from tensorflow import keras\n",
        "from keras.models import Sequential\n",
        "from tensorflow.keras.layers import BatchNormalization\n",
        "from keras.layers.convolutional import Conv2D\n",
        "from keras.layers.convolutional import MaxPooling2D\n",
        "from keras.layers.core import Activation\n",
        "from keras.layers.core import Flatten\n",
        "from keras.layers.core import Dropout\n",
        "from keras.layers.core import Dense\n",
        "from keras import backend as K\n",
        "# matplotlib\n",
        "import matplotlib\n",
        "%matplotlib inline\n",
        "import matplotlib.pyplot as plt\n",
        "# matrix confidence plot\n",
        "from mlxtend.plotting import plot_confusion_matrix\n",
        "from sklearn.metrics import confusion_matrix"
      ]
    },
    {
      "cell_type": "code",
      "execution_count": null,
      "metadata": {
        "colab": {
          "base_uri": "https://localhost:8080/",
          "height": 1000
        },
        "id": "DMaddkKHWoHJ",
        "outputId": "f7986183-ecb0-4f06-8bb8-2b8eefdab2d7"
      },
      "outputs": [
        {
          "output_type": "stream",
          "name": "stdout",
          "text": [
            "Looking in indexes: https://pypi.org/simple, https://us-python.pkg.dev/colab-wheels/public/simple/\n",
            "Collecting tensorflowjs\n",
            "  Downloading tensorflowjs-4.1.0-py3-none-any.whl (84 kB)\n",
            "\u001b[K     |████████████████████████████████| 84 kB 3.1 MB/s \n",
            "\u001b[?25hRequirement already satisfied: six<2,>=1.12.0 in /usr/local/lib/python3.8/dist-packages (from tensorflowjs) (1.15.0)\n",
            "Collecting flax>=0.5.3\n",
            "  Downloading flax-0.6.3-py3-none-any.whl (197 kB)\n",
            "\u001b[K     |████████████████████████████████| 197 kB 70.9 MB/s \n",
            "\u001b[?25hCollecting tensorflow-decision-forests>=1.0.1\n",
            "  Downloading tensorflow_decision_forests-1.1.0-cp38-cp38-manylinux_2_17_x86_64.manylinux2014_x86_64.whl (16.2 MB)\n",
            "\u001b[K     |████████████████████████████████| 16.2 MB 53.4 MB/s \n",
            "\u001b[?25hCollecting packaging~=20.9\n",
            "  Downloading packaging-20.9-py2.py3-none-any.whl (40 kB)\n",
            "\u001b[K     |████████████████████████████████| 40 kB 6.3 MB/s \n",
            "\u001b[?25hRequirement already satisfied: importlib_resources>=5.9.0 in /usr/local/lib/python3.8/dist-packages (from tensorflowjs) (5.10.0)\n",
            "Collecting tensorflow<3,>=2.10.0\n",
            "  Downloading tensorflow-2.11.0-cp38-cp38-manylinux_2_17_x86_64.manylinux2014_x86_64.whl (588.3 MB)\n",
            "\u001b[K     |████████████████████████████████| 588.3 MB 21 kB/s \n",
            "\u001b[?25hRequirement already satisfied: protobuf<3.20,>=3.9.2 in /usr/local/lib/python3.8/dist-packages (from tensorflowjs) (3.19.6)\n",
            "Requirement already satisfied: tensorflow-hub<0.13,>=0.7.0 in /usr/local/lib/python3.8/dist-packages (from tensorflowjs) (0.12.0)\n",
            "Requirement already satisfied: jax>=0.3.16 in /usr/local/lib/python3.8/dist-packages (from tensorflowjs) (0.3.25)\n",
            "Collecting rich>=11.1\n",
            "  Downloading rich-12.6.0-py3-none-any.whl (237 kB)\n",
            "\u001b[K     |████████████████████████████████| 237 kB 81.4 MB/s \n",
            "\u001b[?25hRequirement already satisfied: typing-extensions>=4.1.1 in /usr/local/lib/python3.8/dist-packages (from flax>=0.5.3->tensorflowjs) (4.4.0)\n",
            "Requirement already satisfied: PyYAML>=5.4.1 in /usr/local/lib/python3.8/dist-packages (from flax>=0.5.3->tensorflowjs) (6.0)\n",
            "Collecting tensorstore\n",
            "  Downloading tensorstore-0.1.28-cp38-cp38-manylinux_2_17_x86_64.manylinux2014_x86_64.whl (8.3 MB)\n",
            "\u001b[K     |████████████████████████████████| 8.3 MB 70.2 MB/s \n",
            "\u001b[?25hRequirement already satisfied: numpy>=1.12 in /usr/local/lib/python3.8/dist-packages (from flax>=0.5.3->tensorflowjs) (1.21.6)\n",
            "Collecting optax\n",
            "  Downloading optax-0.1.4-py3-none-any.whl (154 kB)\n",
            "\u001b[K     |████████████████████████████████| 154 kB 77.0 MB/s \n",
            "\u001b[?25hRequirement already satisfied: msgpack in /usr/local/lib/python3.8/dist-packages (from flax>=0.5.3->tensorflowjs) (1.0.4)\n",
            "Collecting orbax\n",
            "  Downloading orbax-0.0.23-py3-none-any.whl (66 kB)\n",
            "\u001b[K     |████████████████████████████████| 66 kB 6.3 MB/s \n",
            "\u001b[?25hRequirement already satisfied: matplotlib in /usr/local/lib/python3.8/dist-packages (from flax>=0.5.3->tensorflowjs) (3.2.2)\n",
            "Requirement already satisfied: zipp>=3.1.0 in /usr/local/lib/python3.8/dist-packages (from importlib_resources>=5.9.0->tensorflowjs) (3.11.0)\n",
            "Requirement already satisfied: opt-einsum in /usr/local/lib/python3.8/dist-packages (from jax>=0.3.16->tensorflowjs) (3.3.0)\n",
            "Requirement already satisfied: scipy>=1.5 in /usr/local/lib/python3.8/dist-packages (from jax>=0.3.16->tensorflowjs) (1.7.3)\n",
            "Requirement already satisfied: pyparsing>=2.0.2 in /usr/local/lib/python3.8/dist-packages (from packaging~=20.9->tensorflowjs) (3.0.9)\n",
            "Collecting commonmark<0.10.0,>=0.9.0\n",
            "  Downloading commonmark-0.9.1-py2.py3-none-any.whl (51 kB)\n",
            "\u001b[K     |████████████████████████████████| 51 kB 8.4 MB/s \n",
            "\u001b[?25hRequirement already satisfied: pygments<3.0.0,>=2.6.0 in /usr/local/lib/python3.8/dist-packages (from rich>=11.1->flax>=0.5.3->tensorflowjs) (2.6.1)\n",
            "Requirement already satisfied: h5py>=2.9.0 in /usr/local/lib/python3.8/dist-packages (from tensorflow<3,>=2.10.0->tensorflowjs) (3.1.0)\n",
            "Collecting flatbuffers>=2.0\n",
            "  Downloading flatbuffers-22.12.6-py2.py3-none-any.whl (26 kB)\n",
            "Requirement already satisfied: wrapt>=1.11.0 in /usr/local/lib/python3.8/dist-packages (from tensorflow<3,>=2.10.0->tensorflowjs) (1.14.1)\n",
            "Requirement already satisfied: tensorflow-io-gcs-filesystem>=0.23.1 in /usr/local/lib/python3.8/dist-packages (from tensorflow<3,>=2.10.0->tensorflowjs) (0.28.0)\n",
            "Collecting keras<2.12,>=2.11.0\n",
            "  Downloading keras-2.11.0-py2.py3-none-any.whl (1.7 MB)\n",
            "\u001b[K     |████████████████████████████████| 1.7 MB 61.7 MB/s \n",
            "\u001b[?25hCollecting tensorflow-estimator<2.12,>=2.11.0\n",
            "  Downloading tensorflow_estimator-2.11.0-py2.py3-none-any.whl (439 kB)\n",
            "\u001b[K     |████████████████████████████████| 439 kB 66.6 MB/s \n",
            "\u001b[?25hRequirement already satisfied: termcolor>=1.1.0 in /usr/local/lib/python3.8/dist-packages (from tensorflow<3,>=2.10.0->tensorflowjs) (2.1.1)\n",
            "Requirement already satisfied: gast<=0.4.0,>=0.2.1 in /usr/local/lib/python3.8/dist-packages (from tensorflow<3,>=2.10.0->tensorflowjs) (0.4.0)\n",
            "Requirement already satisfied: setuptools in /usr/local/lib/python3.8/dist-packages (from tensorflow<3,>=2.10.0->tensorflowjs) (57.4.0)\n",
            "Requirement already satisfied: absl-py>=1.0.0 in /usr/local/lib/python3.8/dist-packages (from tensorflow<3,>=2.10.0->tensorflowjs) (1.3.0)\n",
            "Requirement already satisfied: google-pasta>=0.1.1 in /usr/local/lib/python3.8/dist-packages (from tensorflow<3,>=2.10.0->tensorflowjs) (0.2.0)\n",
            "Requirement already satisfied: grpcio<2.0,>=1.24.3 in /usr/local/lib/python3.8/dist-packages (from tensorflow<3,>=2.10.0->tensorflowjs) (1.51.1)\n",
            "Requirement already satisfied: libclang>=13.0.0 in /usr/local/lib/python3.8/dist-packages (from tensorflow<3,>=2.10.0->tensorflowjs) (14.0.6)\n",
            "Requirement already satisfied: astunparse>=1.6.0 in /usr/local/lib/python3.8/dist-packages (from tensorflow<3,>=2.10.0->tensorflowjs) (1.6.3)\n",
            "Collecting tensorboard<2.12,>=2.11\n",
            "  Downloading tensorboard-2.11.0-py3-none-any.whl (6.0 MB)\n",
            "\u001b[K     |████████████████████████████████| 6.0 MB 61.0 MB/s \n",
            "\u001b[?25hRequirement already satisfied: wheel<1.0,>=0.23.0 in /usr/local/lib/python3.8/dist-packages (from astunparse>=1.6.0->tensorflow<3,>=2.10.0->tensorflowjs) (0.38.4)\n",
            "Requirement already satisfied: google-auth-oauthlib<0.5,>=0.4.1 in /usr/local/lib/python3.8/dist-packages (from tensorboard<2.12,>=2.11->tensorflow<3,>=2.10.0->tensorflowjs) (0.4.6)\n",
            "Requirement already satisfied: google-auth<3,>=1.6.3 in /usr/local/lib/python3.8/dist-packages (from tensorboard<2.12,>=2.11->tensorflow<3,>=2.10.0->tensorflowjs) (2.15.0)\n",
            "Requirement already satisfied: markdown>=2.6.8 in /usr/local/lib/python3.8/dist-packages (from tensorboard<2.12,>=2.11->tensorflow<3,>=2.10.0->tensorflowjs) (3.4.1)\n",
            "Requirement already satisfied: tensorboard-data-server<0.7.0,>=0.6.0 in /usr/local/lib/python3.8/dist-packages (from tensorboard<2.12,>=2.11->tensorflow<3,>=2.10.0->tensorflowjs) (0.6.1)\n",
            "Requirement already satisfied: werkzeug>=1.0.1 in /usr/local/lib/python3.8/dist-packages (from tensorboard<2.12,>=2.11->tensorflow<3,>=2.10.0->tensorflowjs) (1.0.1)\n",
            "Requirement already satisfied: tensorboard-plugin-wit>=1.6.0 in /usr/local/lib/python3.8/dist-packages (from tensorboard<2.12,>=2.11->tensorflow<3,>=2.10.0->tensorflowjs) (1.8.1)\n",
            "Requirement already satisfied: requests<3,>=2.21.0 in /usr/local/lib/python3.8/dist-packages (from tensorboard<2.12,>=2.11->tensorflow<3,>=2.10.0->tensorflowjs) (2.23.0)\n",
            "Requirement already satisfied: cachetools<6.0,>=2.0.0 in /usr/local/lib/python3.8/dist-packages (from google-auth<3,>=1.6.3->tensorboard<2.12,>=2.11->tensorflow<3,>=2.10.0->tensorflowjs) (5.2.0)\n",
            "Requirement already satisfied: rsa<5,>=3.1.4 in /usr/local/lib/python3.8/dist-packages (from google-auth<3,>=1.6.3->tensorboard<2.12,>=2.11->tensorflow<3,>=2.10.0->tensorflowjs) (4.9)\n",
            "Requirement already satisfied: pyasn1-modules>=0.2.1 in /usr/local/lib/python3.8/dist-packages (from google-auth<3,>=1.6.3->tensorboard<2.12,>=2.11->tensorflow<3,>=2.10.0->tensorflowjs) (0.2.8)\n",
            "Requirement already satisfied: requests-oauthlib>=0.7.0 in /usr/local/lib/python3.8/dist-packages (from google-auth-oauthlib<0.5,>=0.4.1->tensorboard<2.12,>=2.11->tensorflow<3,>=2.10.0->tensorflowjs) (1.3.1)\n",
            "Requirement already satisfied: importlib-metadata>=4.4 in /usr/local/lib/python3.8/dist-packages (from markdown>=2.6.8->tensorboard<2.12,>=2.11->tensorflow<3,>=2.10.0->tensorflowjs) (4.13.0)\n",
            "Requirement already satisfied: pyasn1<0.5.0,>=0.4.6 in /usr/local/lib/python3.8/dist-packages (from pyasn1-modules>=0.2.1->google-auth<3,>=1.6.3->tensorboard<2.12,>=2.11->tensorflow<3,>=2.10.0->tensorflowjs) (0.4.8)\n",
            "Requirement already satisfied: certifi>=2017.4.17 in /usr/local/lib/python3.8/dist-packages (from requests<3,>=2.21.0->tensorboard<2.12,>=2.11->tensorflow<3,>=2.10.0->tensorflowjs) (2022.9.24)\n",
            "Requirement already satisfied: idna<3,>=2.5 in /usr/local/lib/python3.8/dist-packages (from requests<3,>=2.21.0->tensorboard<2.12,>=2.11->tensorflow<3,>=2.10.0->tensorflowjs) (2.10)\n",
            "Requirement already satisfied: chardet<4,>=3.0.2 in /usr/local/lib/python3.8/dist-packages (from requests<3,>=2.21.0->tensorboard<2.12,>=2.11->tensorflow<3,>=2.10.0->tensorflowjs) (3.0.4)\n",
            "Requirement already satisfied: urllib3!=1.25.0,!=1.25.1,<1.26,>=1.21.1 in /usr/local/lib/python3.8/dist-packages (from requests<3,>=2.21.0->tensorboard<2.12,>=2.11->tensorflow<3,>=2.10.0->tensorflowjs) (1.24.3)\n",
            "Requirement already satisfied: oauthlib>=3.0.0 in /usr/local/lib/python3.8/dist-packages (from requests-oauthlib>=0.7.0->google-auth-oauthlib<0.5,>=0.4.1->tensorboard<2.12,>=2.11->tensorflow<3,>=2.10.0->tensorflowjs) (3.2.2)\n",
            "Collecting wurlitzer\n",
            "  Downloading wurlitzer-3.0.3-py3-none-any.whl (7.3 kB)\n",
            "Requirement already satisfied: pandas in /usr/local/lib/python3.8/dist-packages (from tensorflow-decision-forests>=1.0.1->tensorflowjs) (1.3.5)\n",
            "Requirement already satisfied: kiwisolver>=1.0.1 in /usr/local/lib/python3.8/dist-packages (from matplotlib->flax>=0.5.3->tensorflowjs) (1.4.4)\n",
            "Requirement already satisfied: python-dateutil>=2.1 in /usr/local/lib/python3.8/dist-packages (from matplotlib->flax>=0.5.3->tensorflowjs) (2.8.2)\n",
            "Requirement already satisfied: cycler>=0.10 in /usr/local/lib/python3.8/dist-packages (from matplotlib->flax>=0.5.3->tensorflowjs) (0.11.0)\n",
            "Requirement already satisfied: jaxlib>=0.1.37 in /usr/local/lib/python3.8/dist-packages (from optax->flax>=0.5.3->tensorflowjs) (0.3.25+cuda11.cudnn805)\n",
            "Collecting chex>=0.1.5\n",
            "  Downloading chex-0.1.5-py3-none-any.whl (85 kB)\n",
            "\u001b[K     |████████████████████████████████| 85 kB 5.0 MB/s \n",
            "\u001b[?25hRequirement already satisfied: toolz>=0.9.0 in /usr/local/lib/python3.8/dist-packages (from chex>=0.1.5->optax->flax>=0.5.3->tensorflowjs) (0.12.0)\n",
            "Requirement already satisfied: dm-tree>=0.1.5 in /usr/local/lib/python3.8/dist-packages (from chex>=0.1.5->optax->flax>=0.5.3->tensorflowjs) (0.1.7)\n",
            "Collecting cached_property\n",
            "  Downloading cached_property-1.5.2-py2.py3-none-any.whl (7.6 kB)\n",
            "Requirement already satisfied: pytest in /usr/local/lib/python3.8/dist-packages (from orbax->flax>=0.5.3->tensorflowjs) (3.6.4)\n",
            "Requirement already satisfied: etils in /usr/local/lib/python3.8/dist-packages (from orbax->flax>=0.5.3->tensorflowjs) (0.9.0)\n",
            "Requirement already satisfied: pytz>=2017.3 in /usr/local/lib/python3.8/dist-packages (from pandas->tensorflow-decision-forests>=1.0.1->tensorflowjs) (2022.6)\n",
            "Requirement already satisfied: pluggy<0.8,>=0.5 in /usr/local/lib/python3.8/dist-packages (from pytest->orbax->flax>=0.5.3->tensorflowjs) (0.7.1)\n",
            "Requirement already satisfied: more-itertools>=4.0.0 in /usr/local/lib/python3.8/dist-packages (from pytest->orbax->flax>=0.5.3->tensorflowjs) (9.0.0)\n",
            "Requirement already satisfied: py>=1.5.0 in /usr/local/lib/python3.8/dist-packages (from pytest->orbax->flax>=0.5.3->tensorflowjs) (1.11.0)\n",
            "Requirement already satisfied: attrs>=17.4.0 in /usr/local/lib/python3.8/dist-packages (from pytest->orbax->flax>=0.5.3->tensorflowjs) (22.1.0)\n",
            "Requirement already satisfied: atomicwrites>=1.0 in /usr/local/lib/python3.8/dist-packages (from pytest->orbax->flax>=0.5.3->tensorflowjs) (1.4.1)\n",
            "Installing collected packages: tensorstore, tensorflow-estimator, tensorboard, packaging, keras, flatbuffers, commonmark, chex, cached-property, wurlitzer, tensorflow, rich, orbax, optax, tensorflow-decision-forests, flax, tensorflowjs\n",
            "  Attempting uninstall: tensorflow-estimator\n",
            "    Found existing installation: tensorflow-estimator 2.9.0\n",
            "    Uninstalling tensorflow-estimator-2.9.0:\n",
            "      Successfully uninstalled tensorflow-estimator-2.9.0\n",
            "  Attempting uninstall: tensorboard\n",
            "    Found existing installation: tensorboard 2.9.1\n",
            "    Uninstalling tensorboard-2.9.1:\n",
            "      Successfully uninstalled tensorboard-2.9.1\n",
            "  Attempting uninstall: packaging\n",
            "    Found existing installation: packaging 21.3\n",
            "    Uninstalling packaging-21.3:\n",
            "      Successfully uninstalled packaging-21.3\n",
            "  Attempting uninstall: keras\n",
            "    Found existing installation: keras 2.9.0\n",
            "    Uninstalling keras-2.9.0:\n",
            "      Successfully uninstalled keras-2.9.0\n",
            "  Attempting uninstall: flatbuffers\n",
            "    Found existing installation: flatbuffers 1.12\n",
            "    Uninstalling flatbuffers-1.12:\n",
            "      Successfully uninstalled flatbuffers-1.12\n",
            "  Attempting uninstall: tensorflow\n",
            "    Found existing installation: tensorflow 2.9.2\n",
            "    Uninstalling tensorflow-2.9.2:\n",
            "      Successfully uninstalled tensorflow-2.9.2\n",
            "Successfully installed cached-property-1.5.2 chex-0.1.5 commonmark-0.9.1 flatbuffers-22.12.6 flax-0.6.3 keras-2.11.0 optax-0.1.4 orbax-0.0.23 packaging-20.9 rich-12.6.0 tensorboard-2.11.0 tensorflow-2.11.0 tensorflow-decision-forests-1.1.0 tensorflow-estimator-2.11.0 tensorflowjs-4.1.0 tensorstore-0.1.28 wurlitzer-3.0.3\n"
          ]
        },
        {
          "output_type": "display_data",
          "data": {
            "application/vnd.colab-display-data+json": {
              "pip_warning": {
                "packages": [
                  "flatbuffers",
                  "keras",
                  "packaging",
                  "tensorboard",
                  "tensorflow"
                ]
              }
            }
          },
          "metadata": {}
        }
      ],
      "source": [
        "pip install tensorflowjs"
      ]
    },
    {
      "cell_type": "markdown",
      "metadata": {
        "id": "c_8SKXLvwgFA"
      },
      "source": [
        "#### Variables"
      ]
    },
    {
      "cell_type": "code",
      "execution_count": null,
      "metadata": {
        "id": "NYOaYFjlwlDU"
      },
      "outputs": [],
      "source": [
        "CATEGORIES = [\"ya\", \"yab\", \"yach\", \"yad\", \"yadd\", \"yae\", \"yaf\", \"yag\", \"yagh\", \n",
        "              \"yagw\", \"yah\", \"yahh\", \"yaj\", \"yak\", \"yakw\", \"yal\", \"yam\", \"yan\", \n",
        "              \"yaq\", \"yar\",\"yarr\", \"yas\", \"yass\", \"yat\", \"yatt\", \"yaw\", \"yax\", \n",
        "              \"yay\", \"yaz\", \"yazz\", \"yey\", \"yi\", \"yu\"] # a list of all possible classes\n",
        "T_CATEGORIES = ['ⴰ', 'ⴱ', 'ⵛ', 'ⴷ', 'ⴹ', 'ⵄ', 'ⴼ', 'ⴳ', 'ⵖ', 'ⴳⵯ', 'ⵀ', 'ⵃ', 'ⵊ', 'ⴽ', 'ⴽⵯ',\n",
        "                'ⵍ','ⵎ','ⵏ', 'ⵇ', 'ⵔ', 'ⵕ', 'ⵙ', 'ⵚ', 'ⵜ', 'ⵟ', 'ⵡ', 'ⵅ', 'ⵢ', 'ⵣ','ⵥ', 'ⴻ', 'ⵉ', 'ⵓ']\n",
        "\n",
        "training_data = [] # open traning split\n",
        "testing_data = [] # open test split"
      ]
    },
    {
      "cell_type": "markdown",
      "metadata": {
        "id": "KT29UQrnd5G0"
      },
      "source": [
        "\n",
        "# pathing"
      ]
    },
    {
      "cell_type": "code",
      "execution_count": null,
      "metadata": {
        "id": "Vl4_nyb6goN6"
      },
      "outputs": [],
      "source": [
        "\n",
        "#@markdown \\\n",
        "#@markdown #### enter the path to access repo folder:\n",
        "path = \"berber\" #@param {type:\"string\"}\n",
        "#@markdown \\\n",
        "DIR = os.path.join(\"/content/drive/MyDrive\",path) # h the path to the DATASET dir  in your drive\n",
        "TRAIN_DATA_DIR = os.path.join(DIR,\"training_data_Handwriting/\")\n",
        "TEST_DATA_DIR = os.path.join(DIR,\"testing_data_handwriting2/\")\n",
        "MODEL_DIR = os.path.join(DIR,\"model/\")\n",
        "TRAIN_MODEL_DIR = os.path.join(DIR,\"model/train/\")\n",
        "TEST_MODEL_DIR = os.path.join(DIR,\"model/test/\")\n"
      ]
    },
    {
      "cell_type": "markdown",
      "metadata": {
        "id": "pdc2JFHU77S7"
      },
      "source": [
        "\n",
        "## Preprocessing functions"
      ]
    },
    {
      "cell_type": "markdown",
      "metadata": {
        "id": "0S-Vd6uGsYcO"
      },
      "source": [
        "<b>OpenCV</b> "
      ]
    },
    {
      "cell_type": "code",
      "execution_count": null,
      "metadata": {
        "id": "ZslzhLOz64Ib"
      },
      "outputs": [],
      "source": [
        "training_data = [] \n",
        "def prepare_training_data():\n",
        "    for category in CATEGORIES :\n",
        "        path = os.path.join(TRAIN_DATA_DIR, category)\n",
        "        class_num = CATEGORIES.index(category)  # get the classification  (0 to 29-using 30 labels here)\n",
        "        for img in os.listdir(path): # iterate for each image in folder.\n",
        "            img_array = cv.imread(os.path.join(path, img), cv.IMREAD_GRAYSCALE) #greyscalled\n",
        "            new_array = cv.resize(img_array, (50,50)) #resize to 50x50\n",
        "            training_data.append([new_array, class_num]) # append processed image to respective list\n",
        "prepare_training_data() "
      ]
    },
    {
      "cell_type": "code",
      "source": [
        "testing_data = [] \n",
        "def prepare_testing_data():\n",
        "    for category in CATEGORIES :\n",
        "        path = os.path.join(TEST_DATA_DIR, category)\n",
        "        class_num = CATEGORIES.index(category)  # get the classification  (0 to 29using 30 labels here- change to 32 for 33 classes) \n",
        "        for img in os.listdir(path): # iteration again for test set images \n",
        "            img_array = cv.imread(os.path.join(path, img), cv.IMREAD_GRAYSCALE) #greyscalled\n",
        "            new_array = cv.resize(img_array, (50,50)) #resize to 50x50\n",
        "            testing_data.append([new_array, class_num]) #append\n",
        "prepare_testing_data() "
      ],
      "metadata": {
        "id": "qVsHkz8ihybP"
      },
      "execution_count": null,
      "outputs": []
    },
    {
      "cell_type": "markdown",
      "metadata": {
        "id": "mbCC07Y3coSH"
      },
      "source": []
    },
    {
      "cell_type": "code",
      "execution_count": null,
      "metadata": {
        "id": "z4nf3AKE7GDh"
      },
      "outputs": [],
      "source": [
        "# random shuffle on each of the sets \n",
        "random.shuffle(training_data)\n",
        "random.shuffle(testing_data)"
      ]
    },
    {
      "cell_type": "markdown",
      "metadata": {
        "id": "n-_F3RpVwN5d"
      },
      "source": [
        "\n",
        "#### Model"
      ]
    },
    {
      "cell_type": "code",
      "execution_count": null,
      "metadata": {
        "id": "C1vgeaDU7fHa"
      },
      "outputs": [],
      "source": [
        "x_train = [] \n",
        "y_train = []\n",
        "\n",
        "for features,label in training_data:\n",
        "    x_train.append(features)\n",
        "    y_train.append(label)\n",
        "\n",
        "x_train = np.array(x_train)\n",
        "y_train = np.array(y_train)"
      ]
    },
    {
      "cell_type": "code",
      "execution_count": null,
      "metadata": {
        "id": "vfg7eK6g88Xg"
      },
      "outputs": [],
      "source": [
        "# same for test \n",
        "x_test = [] \n",
        "y_test = []\n",
        "\n",
        "for features,label in testing_data:\n",
        "    x_test.append(features)\n",
        "    y_test.append(label)\n",
        "\n",
        "x_test = np.array(x_test)\n",
        "y_test = np.array(y_test)"
      ]
    },
    {
      "cell_type": "markdown",
      "source": [
        "###Take a look inside the arrays"
      ],
      "metadata": {
        "id": "ImKH-arzNwK5"
      }
    },
    {
      "cell_type": "code",
      "source": [
        "x_test"
      ],
      "metadata": {
        "colab": {
          "base_uri": "https://localhost:8080/"
        },
        "id": "mZDD59-B0P5b",
        "outputId": "62ad9dfb-c526-46bb-c7b2-947f6b81535b"
      },
      "execution_count": null,
      "outputs": [
        {
          "output_type": "execute_result",
          "data": {
            "text/plain": [
              "array([[[255, 254, 255, ..., 255, 255, 255],\n",
              "        [255, 254, 254, ..., 255, 255, 255],\n",
              "        [255, 255, 255, ..., 255, 255, 255],\n",
              "        ...,\n",
              "        [148, 151, 163, ..., 255, 255, 255],\n",
              "        [212, 174, 165, ..., 255, 255, 255],\n",
              "        [245, 204, 188, ..., 255, 255, 255]],\n",
              "\n",
              "       [[251, 252, 250, ..., 254, 254, 254],\n",
              "        [253, 245, 253, ..., 254, 254, 254],\n",
              "        [252, 253, 251, ..., 254, 254, 254],\n",
              "        ...,\n",
              "        [164, 179, 163, ..., 255, 255, 255],\n",
              "        [249, 243, 167, ..., 255, 255, 255],\n",
              "        [249, 246, 239, ..., 255, 255, 255]],\n",
              "\n",
              "       [[253, 253, 250, ...,  89,  93,  96],\n",
              "        [253, 252, 248, ..., 133, 174, 193],\n",
              "        [253, 252, 247, ..., 187, 231, 253],\n",
              "        ...,\n",
              "        [253, 252, 249, ..., 255, 255, 255],\n",
              "        [252, 249, 250, ..., 255, 255, 255],\n",
              "        [248, 245, 250, ..., 255, 255, 255]],\n",
              "\n",
              "       ...,\n",
              "\n",
              "       [[254, 254, 252, ..., 215, 197, 210],\n",
              "        [250, 251, 251, ..., 185, 190, 226],\n",
              "        [252, 249, 221, ..., 166, 216, 247],\n",
              "        ...,\n",
              "        [200, 210, 230, ..., 254, 255, 255],\n",
              "        [224, 174, 193, ..., 254, 254, 255],\n",
              "        [239, 198, 163, ..., 254, 254, 255]],\n",
              "\n",
              "       [[254, 255, 255, ..., 255, 255, 255],\n",
              "        [254, 254, 253, ..., 255, 255, 255],\n",
              "        [253, 252, 249, ..., 255, 255, 255],\n",
              "        ...,\n",
              "        [255, 251, 251, ..., 255, 254, 252],\n",
              "        [255, 251, 248, ..., 255, 254, 253],\n",
              "        [255, 254, 250, ..., 253, 253, 253]],\n",
              "\n",
              "       [[255, 255, 255, ..., 243, 201, 236],\n",
              "        [255, 255, 255, ..., 214, 208, 249],\n",
              "        [255, 255, 255, ..., 152, 222, 254],\n",
              "        ...,\n",
              "        [252, 255, 254, ..., 255, 255, 255],\n",
              "        [255, 253, 251, ..., 255, 255, 255],\n",
              "        [253, 253, 254, ..., 255, 255, 255]]], dtype=uint8)"
            ]
          },
          "metadata": {},
          "execution_count": 11
        }
      ]
    },
    {
      "cell_type": "markdown",
      "metadata": {
        "id": "DeYWj6QXqgeu"
      },
      "source": [
        "\n",
        "#### pickle"
      ]
    },
    {
      "cell_type": "markdown",
      "metadata": {
        "id": "s4lC8VIOb_kY"
      },
      "source": [
        "serializing"
      ]
    },
    {
      "cell_type": "code",
      "execution_count": null,
      "metadata": {
        "id": "VzzQfQdu7rnu"
      },
      "outputs": [],
      "source": [
        "\n",
        "\n",
        "\n",
        "pickle_out = open(TRAIN_MODEL_DIR + \"x_train.pickle\",\"wb\")\n",
        "pickle.dump(x_train, pickle_out)\n",
        "pickle_out.close()\n",
        "\n",
        "pickle_out = open(TRAIN_MODEL_DIR + \"y_train.pickle\",\"wb\")\n",
        "pickle.dump(y_train, pickle_out)\n",
        "pickle_out.close()"
      ]
    },
    {
      "cell_type": "code",
      "execution_count": null,
      "metadata": {
        "id": "oo_g1sU_9Okt"
      },
      "outputs": [],
      "source": [
        "#and for test \n",
        "\n",
        "pickle_out = open(TEST_MODEL_DIR + \"x_test.pickle\",\"wb\")\n",
        "pickle.dump(x_test, pickle_out)\n",
        "pickle_out.close()\n",
        "\n",
        "pickle_out = open(TEST_MODEL_DIR + \"y_test.pickle\",\"wb\")\n",
        "pickle.dump(y_test, pickle_out)\n",
        "pickle_out.close()"
      ]
    },
    {
      "cell_type": "markdown",
      "metadata": {
        "id": "a9s-a1jwqqQQ"
      },
      "source": [
        "\n",
        "#### unpickle "
      ]
    },
    {
      "cell_type": "code",
      "execution_count": null,
      "metadata": {
        "id": "a8tLrB3_72kp"
      },
      "outputs": [],
      "source": [
        "# to load the model we use the script\n",
        "pickle_in = open(TRAIN_MODEL_DIR + \"x_train.pickle\",\"rb\")\n",
        "x_train = pickle.load(pickle_in)\n",
        "\n",
        "pickle_in = open(TRAIN_MODEL_DIR + \"y_train.pickle\",\"rb\")\n",
        "y_train = pickle.load(pickle_in)"
      ]
    },
    {
      "cell_type": "code",
      "execution_count": null,
      "metadata": {
        "id": "rwSHBy139ayT"
      },
      "outputs": [],
      "source": [
        "# to load the model we use the script\n",
        "pickle_in = open(TEST_MODEL_DIR + \"x_test.pickle\",\"rb\")\n",
        "x_test = pickle.load(pickle_in)\n",
        "\n",
        "pickle_in = open(TEST_MODEL_DIR + \"y_test.pickle\",\"rb\")\n",
        "y_test = pickle.load(pickle_in)"
      ]
    },
    {
      "cell_type": "markdown",
      "metadata": {
        "id": "04UMVpJcIDiv"
      },
      "source": [
        "# creating CNN\n",
        "\n",
        "---\n",
        "\n"
      ]
    },
    {
      "cell_type": "markdown",
      "metadata": {
        "id": "9I5wu7iWBicv"
      },
      "source": [
        "#### Dimension variables"
      ]
    },
    {
      "cell_type": "code",
      "execution_count": null,
      "metadata": {
        "id": "o2A6pz5O_l0k"
      },
      "outputs": [],
      "source": [
        "# inputs sizes to 50x50 \n",
        "img_w = 50\n",
        "img_h = 50\n",
        "\n",
        "# create a one-dimensional array to store image data \n",
        "img_size_flat = img_w*img_h\n",
        "\n",
        "# reshape arrays with tuple (width, height)\n",
        "img_shape = (img_w, img_h)\n",
        "\n",
        "# number of labels being used, change to 33 for entire Tifinagh alphabet or change to match your number of labels if using non-language glyph data\n",
        "num_classes = 33\n",
        "\n",
        "# leave at 1 for greyscale\n",
        "num_channels = 1"
      ]
    },
    {
      "cell_type": "markdown",
      "metadata": {
        "id": "MKc7mXkVQHP5"
      },
      "source": [
        "\n",
        "#Conv float64->float32"
      ]
    },
    {
      "cell_type": "code",
      "execution_count": null,
      "metadata": {
        "id": "7k1w_AkRNO5g"
      },
      "outputs": [],
      "source": [
        "# fo reducing the computition we convert the numbers from float64 to float32\n",
        "# we normalise (dividing all by 255.0) to make numbers between 0 and 1 instead of 0 and 255\n",
        "x_train = x_train.reshape(-1,50,50,1).astype(\"float32\") / 255.0 \n",
        "x_test = x_test.reshape(-1,50,50,1).astype(\"float32\") / 255.0\n",
        "\n",
        "y_train = keras.utils.to_categorical(y_train, 33)\n",
        "y_test = keras.utils.to_categorical(y_test, 33)\n"
      ]
    },
    {
      "cell_type": "markdown",
      "metadata": {
        "id": "lDznGxmqAwJB"
      },
      "source": [
        "#### adding layers/initalizing model (VGG16)"
      ]
    },
    {
      "cell_type": "code",
      "execution_count": null,
      "metadata": {
        "id": "vkDu2lrKAvqo"
      },
      "outputs": [],
      "source": [
        "def VGG16(width, height, depth, classes):\n",
        "\t\t# initializing\n",
        "\t\tmodel = Sequential()\n",
        "\t\tinputShape = (height, width, depth)\n",
        "\t\tchanDim = -1\n",
        "\t\t# CONV => RELU => POOL layer set\n",
        "\t\tmodel.add(Conv2D(32, (3, 3), padding=\"same\", input_shape=inputShape))\n",
        "\t\tmodel.add(Activation(\"relu\"))\n",
        "\t\tmodel.add(BatchNormalization(axis=chanDim))\n",
        "\t\tmodel.add(MaxPooling2D(pool_size=(2, 2)))\n",
        "\t\tmodel.add(Dropout(0.25))\n",
        "\n",
        "\t\t# (CONV => RELU) * 2 => POOL layer set\n",
        "\t\tmodel.add(Conv2D(64, (3, 3), padding=\"same\"))\n",
        "\t\tmodel.add(Activation(\"relu\"))\n",
        "\t\tmodel.add(BatchNormalization(axis=chanDim))\n",
        "\t\tmodel.add(Conv2D(64, (3, 3), padding=\"same\"))\n",
        "\t\tmodel.add(Activation(\"relu\"))\n",
        "\t\tmodel.add(BatchNormalization(axis=chanDim))\n",
        "\t\tmodel.add(MaxPooling2D(pool_size=(2, 2)))\n",
        "\t\tmodel.add(Dropout(0.40))\n",
        "\n",
        "\t\t# (CONV => RELU) * 3 => POOL layer set\n",
        "\t\tmodel.add(Conv2D(128, (3, 3), padding=\"same\"))\n",
        "\t\tmodel.add(Activation(\"relu\"))\n",
        "\t\tmodel.add(BatchNormalization(axis=chanDim))\n",
        "\t\tmodel.add(Conv2D(128, (3, 3), padding=\"same\"))\n",
        "\t\tmodel.add(Activation(\"relu\"))\n",
        "\t\tmodel.add(BatchNormalization(axis=chanDim))\n",
        "\t\tmodel.add(Conv2D(128, (3, 3), padding=\"same\"))\n",
        "\t\tmodel.add(Activation(\"relu\"))\n",
        "\t\tmodel.add(BatchNormalization(axis=chanDim))\n",
        "\t\tmodel.add(MaxPooling2D(pool_size=(2, 2)))\n",
        "\t\tmodel.add(Dropout(0.40))\n",
        "\n",
        "\t\t# first (and only) set of FC => RELU layers\n",
        "\t\tmodel.add(Flatten())\n",
        "\t\tmodel.add(Dense(512))\n",
        "\t\tmodel.add(Activation(\"relu\"))\n",
        "\t\tmodel.add(BatchNormalization())\n",
        "\t\tmodel.add(Dropout(0.5))\n",
        "\n",
        "\t\t# softmax classifier\n",
        "\t\tmodel.add(Dense(classes))\n",
        "\t\tmodel.add(Activation(\"softmax\"))\n",
        "\n",
        "\t\t# return the constructed network architecture\n",
        "\t\treturn model"
      ]
    },
    {
      "cell_type": "code",
      "execution_count": null,
      "metadata": {
        "id": "0NBU-pb5BUW0"
      },
      "outputs": [],
      "source": [
        "model = VGG16(width=img_w, height=img_h, depth=num_channels, classes=num_classes)"
      ]
    },
    {
      "cell_type": "markdown",
      "metadata": {
        "id": "0WXSv19Cz4K1"
      },
      "source": [
        "### training parameters "
      ]
    },
    {
      "cell_type": "code",
      "execution_count": null,
      "metadata": {
        "id": "HINrWgfYBqWz"
      },
      "outputs": [],
      "source": [
        "\n",
        "INIT_LR = 0.001 #  we found 0.001 works best for 50x50 black and white OCR. others to try are with 0.01, 0.1 \n",
        "EPOCHS = 12 #Epochs, experiment with this one, can get a feel by monitoring training whats best.\n",
        "BS = 15 # Batch-size. experiment with this one \n"
      ]
    },
    {
      "cell_type": "markdown",
      "metadata": {
        "id": "Rmd88NST0esC"
      },
      "source": [
        "### loss funct"
      ]
    },
    {
      "cell_type": "code",
      "execution_count": null,
      "metadata": {
        "colab": {
          "base_uri": "https://localhost:8080/"
        },
        "id": "rAzB2YU0dSTm",
        "outputId": "66339cf5-0c51-427c-a0e9-5ad49d2e2085"
      },
      "outputs": [
        {
          "output_type": "stream",
          "name": "stdout",
          "text": [
            "[INFO] training network...\n"
          ]
        },
        {
          "output_type": "stream",
          "name": "stderr",
          "text": [
            "/usr/local/lib/python3.8/dist-packages/keras/optimizers/optimizer_v2/adam.py:110: UserWarning: The `lr` argument is deprecated, use `learning_rate` instead.\n",
            "  beta_1=0.9,\n"
          ]
        }
      ],
      "source": [
        "print(\"[INFO] training network...\")\n",
        "opt = keras.optimizers.Adam(lr= INIT_LR, decay= INIT_LR / EPOCHS)\n",
        "model.compile(loss=\"categorical_crossentropy\", optimizer=opt,\n",
        "\tmetrics=[\"accuracy\"])"
      ]
    },
    {
      "cell_type": "markdown",
      "metadata": {
        "id": "JetAUuUu0DJQ"
      },
      "source": [
        "#### info on model"
      ]
    },
    {
      "cell_type": "code",
      "execution_count": null,
      "metadata": {
        "colab": {
          "base_uri": "https://localhost:8080/"
        },
        "id": "REuCQWsa4JVD",
        "outputId": "e014e77d-8640-4dbc-a530-d817909f1fc7"
      },
      "outputs": [
        {
          "output_type": "stream",
          "name": "stdout",
          "text": [
            "Model info... \n",
            " \n",
            "Model: \"sequential\"\n",
            "_________________________________________________________________\n",
            " Layer (type)                Output Shape              Param #   \n",
            "=================================================================\n",
            " conv2d (Conv2D)             (None, 50, 50, 32)        320       \n",
            "                                                                 \n",
            " activation (Activation)     (None, 50, 50, 32)        0         \n",
            "                                                                 \n",
            " batch_normalization (BatchN  (None, 50, 50, 32)       128       \n",
            " ormalization)                                                   \n",
            "                                                                 \n",
            " max_pooling2d (MaxPooling2D  (None, 25, 25, 32)       0         \n",
            " )                                                               \n",
            "                                                                 \n",
            " dropout (Dropout)           (None, 25, 25, 32)        0         \n",
            "                                                                 \n",
            " conv2d_1 (Conv2D)           (None, 25, 25, 64)        18496     \n",
            "                                                                 \n",
            " activation_1 (Activation)   (None, 25, 25, 64)        0         \n",
            "                                                                 \n",
            " batch_normalization_1 (Batc  (None, 25, 25, 64)       256       \n",
            " hNormalization)                                                 \n",
            "                                                                 \n",
            " conv2d_2 (Conv2D)           (None, 25, 25, 64)        36928     \n",
            "                                                                 \n",
            " activation_2 (Activation)   (None, 25, 25, 64)        0         \n",
            "                                                                 \n",
            " batch_normalization_2 (Batc  (None, 25, 25, 64)       256       \n",
            " hNormalization)                                                 \n",
            "                                                                 \n",
            " max_pooling2d_1 (MaxPooling  (None, 12, 12, 64)       0         \n",
            " 2D)                                                             \n",
            "                                                                 \n",
            " dropout_1 (Dropout)         (None, 12, 12, 64)        0         \n",
            "                                                                 \n",
            " conv2d_3 (Conv2D)           (None, 12, 12, 128)       73856     \n",
            "                                                                 \n",
            " activation_3 (Activation)   (None, 12, 12, 128)       0         \n",
            "                                                                 \n",
            " batch_normalization_3 (Batc  (None, 12, 12, 128)      512       \n",
            " hNormalization)                                                 \n",
            "                                                                 \n",
            " conv2d_4 (Conv2D)           (None, 12, 12, 128)       147584    \n",
            "                                                                 \n",
            " activation_4 (Activation)   (None, 12, 12, 128)       0         \n",
            "                                                                 \n",
            " batch_normalization_4 (Batc  (None, 12, 12, 128)      512       \n",
            " hNormalization)                                                 \n",
            "                                                                 \n",
            " conv2d_5 (Conv2D)           (None, 12, 12, 128)       147584    \n",
            "                                                                 \n",
            " activation_5 (Activation)   (None, 12, 12, 128)       0         \n",
            "                                                                 \n",
            " batch_normalization_5 (Batc  (None, 12, 12, 128)      512       \n",
            " hNormalization)                                                 \n",
            "                                                                 \n",
            " max_pooling2d_2 (MaxPooling  (None, 6, 6, 128)        0         \n",
            " 2D)                                                             \n",
            "                                                                 \n",
            " dropout_2 (Dropout)         (None, 6, 6, 128)         0         \n",
            "                                                                 \n",
            " flatten (Flatten)           (None, 4608)              0         \n",
            "                                                                 \n",
            " dense (Dense)               (None, 512)               2359808   \n",
            "                                                                 \n",
            " activation_6 (Activation)   (None, 512)               0         \n",
            "                                                                 \n",
            " batch_normalization_6 (Batc  (None, 512)              2048      \n",
            " hNormalization)                                                 \n",
            "                                                                 \n",
            " dropout_3 (Dropout)         (None, 512)               0         \n",
            "                                                                 \n",
            " dense_1 (Dense)             (None, 33)                16929     \n",
            "                                                                 \n",
            " activation_7 (Activation)   (None, 33)                0         \n",
            "                                                                 \n",
            "=================================================================\n",
            "Total params: 2,805,729\n",
            "Trainable params: 2,803,617\n",
            "Non-trainable params: 2,112\n",
            "_________________________________________________________________\n",
            "None\n"
          ]
        }
      ],
      "source": [
        "print(\"Model info... \\n \")\n",
        "print(model.summary())"
      ]
    },
    {
      "cell_type": "markdown",
      "metadata": {
        "id": "AN8aqbSfV_RL"
      },
      "source": [
        "#### \n",
        "\n"
      ]
    },
    {
      "cell_type": "code",
      "execution_count": null,
      "metadata": {
        "id": "Vn15lczW6R5l"
      },
      "outputs": [],
      "source": [
        "tf.config.run_functions_eagerly(True)"
      ]
    },
    {
      "cell_type": "code",
      "execution_count": null,
      "metadata": {
        "colab": {
          "base_uri": "https://localhost:8080/"
        },
        "id": "YV0b9Cz3ddgU",
        "outputId": "fff8412e-4d6c-4a72-cb03-a793e84f5842"
      },
      "outputs": [
        {
          "output_type": "stream",
          "name": "stdout",
          "text": [
            "Epoch 1/12\n",
            "1374/1374 [==============================] - 169s 117ms/step - loss: 0.4002 - accuracy: 0.8864 - val_loss: 0.8059 - val_accuracy: 0.8310\n",
            "Epoch 2/12\n",
            "1374/1374 [==============================] - 160s 116ms/step - loss: 0.1015 - accuracy: 0.9685 - val_loss: 0.1072 - val_accuracy: 0.9701\n",
            "Epoch 3/12\n",
            "1374/1374 [==============================] - 162s 118ms/step - loss: 0.0835 - accuracy: 0.9747 - val_loss: 0.1068 - val_accuracy: 0.9705\n",
            "Epoch 4/12\n",
            "1374/1374 [==============================] - 162s 118ms/step - loss: 0.0628 - accuracy: 0.9810 - val_loss: 0.9525 - val_accuracy: 0.7784\n",
            "Epoch 5/12\n",
            "1374/1374 [==============================] - 160s 116ms/step - loss: 0.0526 - accuracy: 0.9851 - val_loss: 0.1186 - val_accuracy: 0.9751\n",
            "Epoch 6/12\n",
            "1374/1374 [==============================] - 159s 116ms/step - loss: 0.0397 - accuracy: 0.9871 - val_loss: 0.1149 - val_accuracy: 0.9674\n",
            "Epoch 7/12\n",
            "1374/1374 [==============================] - 160s 117ms/step - loss: 0.0317 - accuracy: 0.9902 - val_loss: 0.1011 - val_accuracy: 0.9749\n",
            "Epoch 8/12\n",
            "1374/1374 [==============================] - 162s 118ms/step - loss: 0.0343 - accuracy: 0.9899 - val_loss: 0.0795 - val_accuracy: 0.9833\n",
            "Epoch 9/12\n",
            "1374/1374 [==============================] - 160s 117ms/step - loss: 0.0217 - accuracy: 0.9936 - val_loss: 0.0813 - val_accuracy: 0.9833\n",
            "Epoch 10/12\n",
            "1374/1374 [==============================] - 162s 118ms/step - loss: 0.0218 - accuracy: 0.9937 - val_loss: 0.1042 - val_accuracy: 0.9757\n",
            "Epoch 11/12\n",
            "1374/1374 [==============================] - 164s 119ms/step - loss: 0.0202 - accuracy: 0.9940 - val_loss: 20.3609 - val_accuracy: 0.1024\n",
            "Epoch 12/12\n",
            "1374/1374 [==============================] - 163s 119ms/step - loss: 0.0182 - accuracy: 0.9947 - val_loss: 0.0765 - val_accuracy: 0.9848\n",
            "[INFO] training Done...\n"
          ]
        }
      ],
      "source": [
        "# train the network + monitor\n",
        "H = model.fit(x=x_train, y=y_train, batch_size=BS,\n",
        "              validation_data=(x_test, y_test), \n",
        "              steps_per_epoch= len(y_train) // BS, epochs=EPOCHS)\n",
        "print(\"[INFO] training Done...\")"
      ]
    },
    {
      "cell_type": "code",
      "execution_count": null,
      "metadata": {
        "id": "IyjqoBDBk7KG"
      },
      "outputs": [],
      "source": []
    },
    {
      "cell_type": "markdown",
      "metadata": {
        "id": "cVHndBshuqe5"
      },
      "source": [
        "#### Saving a trained model"
      ]
    },
    {
      "cell_type": "code",
      "execution_count": null,
      "metadata": {
        "id": "64yc_yloAn-l",
        "colab": {
          "base_uri": "https://localhost:8080/"
        },
        "outputId": "cb0e5b80-7bfd-427e-9570-628319f9974e"
      },
      "outputs": [
        {
          "output_type": "stream",
          "name": "stderr",
          "text": [
            "WARNING:tensorflow:AutoGraph could not transform <function trace_model_call.<locals>._wrapped_model at 0x7f8829cabcb0> and will run it as-is.\n",
            "Please report this to the TensorFlow team. When filing the bug, set the verbosity to 10 (on Linux, `export AUTOGRAPH_VERBOSITY=10`) and attach the full output.\n",
            "Cause: closure mismatch, requested ('model',), but source function had ()\n",
            "To silence this warning, decorate the function with @tf.autograph.experimental.do_not_convert\n"
          ]
        },
        {
          "output_type": "stream",
          "name": "stdout",
          "text": [
            "WARNING: AutoGraph could not transform <function trace_model_call.<locals>._wrapped_model at 0x7f8829cabcb0> and will run it as-is.\n",
            "Please report this to the TensorFlow team. When filing the bug, set the verbosity to 10 (on Linux, `export AUTOGRAPH_VERBOSITY=10`) and attach the full output.\n",
            "Cause: closure mismatch, requested ('model',), but source function had ()\n",
            "To silence this warning, decorate the function with @tf.autograph.experimental.do_not_convert\n"
          ]
        },
        {
          "output_type": "stream",
          "name": "stderr",
          "text": [
            "WARNING:absl:Found untraced functions such as _jit_compiled_convolution_op, _jit_compiled_convolution_op, _jit_compiled_convolution_op, _jit_compiled_convolution_op, _jit_compiled_convolution_op while saving (showing 5 of 6). These functions will not be directly callable after loading.\n"
          ]
        }
      ],
      "source": [
        "model.save(os.path.join(MODEL_DIR,\"VGG16-4.model\"))"
      ]
    },
    {
      "cell_type": "markdown",
      "metadata": {
        "id": "0H-8V26Cjy5o"
      },
      "source": [
        "#### Export the model for tonserflowjs"
      ]
    },
    {
      "cell_type": "code",
      "execution_count": null,
      "metadata": {
        "colab": {
          "base_uri": "https://localhost:8080/",
          "height": 193
        },
        "id": "sAWKW2WNuBSh",
        "outputId": "7b2b43cd-3de0-4c09-a811-ad2c825cf7a0"
      },
      "outputs": [
        {
          "output_type": "stream",
          "name": "stdout",
          "text": [
            "2022-11-04 16:03:32.627288: E tensorflow/stream_executor/cuda/cuda_blas.cc:2981] Unable to register cuBLAS factory: Attempting to register factory for plugin cuBLAS when one has already been registered\n",
            "2022-11-04 16:03:33.306290: W tensorflow/stream_executor/platform/default/dso_loader.cc:64] Could not load dynamic library 'libnvinfer.so.7'; dlerror: libnvinfer.so.7: cannot open shared object file: No such file or directory; LD_LIBRARY_PATH: /usr/local/lib/python3.7/dist-packages/cv2/../../lib64:/usr/lib64-nvidia\n",
            "2022-11-04 16:03:33.306478: W tensorflow/stream_executor/platform/default/dso_loader.cc:64] Could not load dynamic library 'libnvinfer_plugin.so.7'; dlerror: libnvinfer_plugin.so.7: cannot open shared object file: No such file or directory; LD_LIBRARY_PATH: /usr/local/lib/python3.7/dist-packages/cv2/../../lib64:/usr/lib64-nvidia\n",
            "2022-11-04 16:03:33.306521: W tensorflow/compiler/tf2tensorrt/utils/py_utils.cc:38] TF-TRT Warning: Cannot dlopen some TensorRT libraries. If you would like to use Nvidia GPU with TensorRT, please make sure the missing libraries mentioned above are installed properly.\n",
            "  adding: model/ (stored 0%)\n",
            "  adding: model/group1-shard1of3.bin (deflated 7%)\n",
            "  adding: model/model.json (deflated 91%)\n",
            "  adding: model/group1-shard3of3.bin (deflated 7%)\n",
            "  adding: model/group1-shard2of3.bin (deflated 7%)\n"
          ]
        },
        {
          "output_type": "display_data",
          "data": {
            "text/plain": [
              "<IPython.core.display.Javascript object>"
            ],
            "application/javascript": [
              "\n",
              "    async function download(id, filename, size) {\n",
              "      if (!google.colab.kernel.accessAllowed) {\n",
              "        return;\n",
              "      }\n",
              "      const div = document.createElement('div');\n",
              "      const label = document.createElement('label');\n",
              "      label.textContent = `Downloading \"${filename}\": `;\n",
              "      div.appendChild(label);\n",
              "      const progress = document.createElement('progress');\n",
              "      progress.max = size;\n",
              "      div.appendChild(progress);\n",
              "      document.body.appendChild(div);\n",
              "\n",
              "      const buffers = [];\n",
              "      let downloaded = 0;\n",
              "\n",
              "      const channel = await google.colab.kernel.comms.open(id);\n",
              "      // Send a message to notify the kernel that we're ready.\n",
              "      channel.send({})\n",
              "\n",
              "      for await (const message of channel.messages) {\n",
              "        // Send a message to notify the kernel that we're ready.\n",
              "        channel.send({})\n",
              "        if (message.buffers) {\n",
              "          for (const buffer of message.buffers) {\n",
              "            buffers.push(buffer);\n",
              "            downloaded += buffer.byteLength;\n",
              "            progress.value = downloaded;\n",
              "          }\n",
              "        }\n",
              "      }\n",
              "      const blob = new Blob(buffers, {type: 'application/binary'});\n",
              "      const a = document.createElement('a');\n",
              "      a.href = window.URL.createObjectURL(blob);\n",
              "      a.download = filename;\n",
              "      div.appendChild(a);\n",
              "      a.click();\n",
              "      div.remove();\n",
              "    }\n",
              "  "
            ]
          },
          "metadata": {}
        },
        {
          "output_type": "display_data",
          "data": {
            "text/plain": [
              "<IPython.core.display.Javascript object>"
            ],
            "application/javascript": [
              "download(\"download_e62370c4-7431-4772-bb47-65c36662f08c\", \"model4.zip\", 10402725)"
            ]
          },
          "metadata": {}
        }
      ],
      "source": [
        "model.save('model4.h5')\n",
        "\n",
        "!mkdir model4\n",
        "!tensorflowjs_converter --input_format keras model4.h5 model/\n",
        "!zip -r model4.zip model \n",
        "\n",
        "from google.colab import files\n",
        "files.download('model4.zip')"
      ]
    },
    {
      "cell_type": "markdown",
      "metadata": {
        "id": "R01nd_mIVIEz"
      },
      "source": [
        "#### Load the trained model"
      ]
    },
    {
      "cell_type": "code",
      "execution_count": null,
      "metadata": {
        "id": "NFOdMkaFVMLd"
      },
      "outputs": [],
      "source": [
        "model = keras.models.load_model(os.path.join(MODEL_DIR,\"VGG16-4.model\"))"
      ]
    },
    {
      "cell_type": "markdown",
      "metadata": {
        "id": "kG9eblfrvq0u"
      },
      "source": [
        "## Statistics"
      ]
    },
    {
      "cell_type": "markdown",
      "metadata": {
        "id": "Gc8g2VYD3OLm"
      },
      "source": [
        "#### Model Accuracy"
      ]
    },
    {
      "cell_type": "code",
      "execution_count": null,
      "metadata": {
        "colab": {
          "base_uri": "https://localhost:8080/"
        },
        "id": "gOoP3X4E5Diu",
        "outputId": "9279b1ff-9c15-4423-d0ef-fd36c3c09869"
      },
      "outputs": [
        {
          "output_type": "stream",
          "name": "stdout",
          "text": [
            "Test loss: 0.33922892808914185\n",
            "Test accuracy: 0.9216216206550598\n"
          ]
        }
      ],
      "source": [
        "score = model.evaluate (x_test, y_test, verbose=0)\n",
        "print('Test loss:', score[0]) \n",
        "print('Test accuracy:', score[1])"
      ]
    },
    {
      "cell_type": "markdown",
      "metadata": {
        "id": "lrie6MxS3XSo"
      },
      "source": [
        "Evolution of Loss and Accuracy by epoches"
      ]
    },
    {
      "cell_type": "code",
      "execution_count": null,
      "metadata": {
        "colab": {
          "base_uri": "https://localhost:8080/",
          "height": 581
        },
        "id": "TY3FJpC06a8K",
        "outputId": "e3791a50-388a-4e96-ef68-8b26490eef2f"
      },
      "outputs": [
        {
          "output_type": "display_data",
          "data": {
            "text/plain": [
              "<IPython.core.display.Javascript object>"
            ],
            "application/javascript": [
              "\n",
              "    async function download(id, filename, size) {\n",
              "      if (!google.colab.kernel.accessAllowed) {\n",
              "        return;\n",
              "      }\n",
              "      const div = document.createElement('div');\n",
              "      const label = document.createElement('label');\n",
              "      label.textContent = `Downloading \"${filename}\": `;\n",
              "      div.appendChild(label);\n",
              "      const progress = document.createElement('progress');\n",
              "      progress.max = size;\n",
              "      div.appendChild(progress);\n",
              "      document.body.appendChild(div);\n",
              "\n",
              "      const buffers = [];\n",
              "      let downloaded = 0;\n",
              "\n",
              "      const channel = await google.colab.kernel.comms.open(id);\n",
              "      // Send a message to notify the kernel that we're ready.\n",
              "      channel.send({})\n",
              "\n",
              "      for await (const message of channel.messages) {\n",
              "        // Send a message to notify the kernel that we're ready.\n",
              "        channel.send({})\n",
              "        if (message.buffers) {\n",
              "          for (const buffer of message.buffers) {\n",
              "            buffers.push(buffer);\n",
              "            downloaded += buffer.byteLength;\n",
              "            progress.value = downloaded;\n",
              "          }\n",
              "        }\n",
              "      }\n",
              "      const blob = new Blob(buffers, {type: 'application/binary'});\n",
              "      const a = document.createElement('a');\n",
              "      a.href = window.URL.createObjectURL(blob);\n",
              "      a.download = filename;\n",
              "      div.appendChild(a);\n",
              "      a.click();\n",
              "      div.remove();\n",
              "    }\n",
              "  "
            ]
          },
          "metadata": {}
        },
        {
          "output_type": "display_data",
          "data": {
            "text/plain": [
              "<IPython.core.display.Javascript object>"
            ],
            "application/javascript": [
              "download(\"download_dc28f63f-f19c-40cf-8f79-6461cc31d8cf\", \"Accuracy_plot_256.png\", 19589)"
            ]
          },
          "metadata": {}
        },
        {
          "output_type": "display_data",
          "data": {
            "text/plain": [
              "<Figure size 432x288 with 1 Axes>"
            ],
            "image/png": "[encoded data removed]"
          },
          "metadata": {}
        },
        {
          "output_type": "display_data",
          "data": {
            "text/plain": [
              "<Figure size 432x288 with 1 Axes>"
            ],
            "image/png": "[encoded data removed]"
          },
          "metadata": {}
        }
      ],
      "source": [
        "# plot for training loss \n",
        "N = np.arange(0, EPOCHS)\n",
        "plt.style.use(\"ggplot\")\n",
        "plt.figure()\n",
        "plt.plot(N, H.history[\"loss\"], label=\"training set loss\")\n",
        "plt.plot(N, H.history[\"val_loss\"], label=\"test set loss\")\n",
        "plt.title(\"Loss: OCR for Berber Signs\")\n",
        "plt.xlabel(\"Epoch #\")\n",
        "plt.ylabel(\"Loss\")\n",
        "plt.legend()\n",
        "\n",
        "\n",
        "# plot for training accuracy\n",
        "N = np.arange(0, EPOCHS)\n",
        "plt.style.use(\"ggplot\")\n",
        "plt.figure()\n",
        "plt.plot(N, H.history[\"accuracy\"], label=\"train_acc\") \n",
        "plt.plot(N, H.history[\"val_accuracy\"], label=\"val_acc\")\n",
        "plt.title(\"Accuracy: OCR for Berber Signs\")\n",
        "plt.xlabel(\"Epoch #\")\n",
        "plt.ylabel(\"Accuracy\")\n",
        "plt.legend()\n",
        "plt.savefig(\"Accuracy_plot_256.png\")\n",
        "files.download(\"Accuracy_plot_256.png\")"
      ]
    },
    {
      "cell_type": "markdown",
      "metadata": {
        "id": "8WBVK3qD3hDX"
      },
      "source": [
        "#### Confusion Matrix"
      ]
    },
    {
      "cell_type": "code",
      "execution_count": null,
      "metadata": {
        "colab": {
          "base_uri": "https://localhost:8080/",
          "height": 878
        },
        "id": "MuGdD7DN6ro-",
        "outputId": "f59ab2df-78cd-4623-f980-3ecc084ade26"
      },
      "outputs": [
        {
          "output_type": "stream",
          "name": "stdout",
          "text": [
            "12/12 [==============================] - 0s 31ms/step\n"
          ]
        },
        {
          "output_type": "display_data",
          "data": {
            "text/plain": [
              "<IPython.core.display.Javascript object>"
            ],
            "application/javascript": [
              "\n",
              "    async function download(id, filename, size) {\n",
              "      if (!google.colab.kernel.accessAllowed) {\n",
              "        return;\n",
              "      }\n",
              "      const div = document.createElement('div');\n",
              "      const label = document.createElement('label');\n",
              "      label.textContent = `Downloading \"${filename}\": `;\n",
              "      div.appendChild(label);\n",
              "      const progress = document.createElement('progress');\n",
              "      progress.max = size;\n",
              "      div.appendChild(progress);\n",
              "      document.body.appendChild(div);\n",
              "\n",
              "      const buffers = [];\n",
              "      let downloaded = 0;\n",
              "\n",
              "      const channel = await google.colab.kernel.comms.open(id);\n",
              "      // Send a message to notify the kernel that we're ready.\n",
              "      channel.send({})\n",
              "\n",
              "      for await (const message of channel.messages) {\n",
              "        // Send a message to notify the kernel that we're ready.\n",
              "        channel.send({})\n",
              "        if (message.buffers) {\n",
              "          for (const buffer of message.buffers) {\n",
              "            buffers.push(buffer);\n",
              "            downloaded += buffer.byteLength;\n",
              "            progress.value = downloaded;\n",
              "          }\n",
              "        }\n",
              "      }\n",
              "      const blob = new Blob(buffers, {type: 'application/binary'});\n",
              "      const a = document.createElement('a');\n",
              "      a.href = window.URL.createObjectURL(blob);\n",
              "      a.download = filename;\n",
              "      div.appendChild(a);\n",
              "      a.click();\n",
              "      div.remove();\n",
              "    }\n",
              "  "
            ]
          },
          "metadata": {}
        },
        {
          "output_type": "display_data",
          "data": {
            "text/plain": [
              "<IPython.core.display.Javascript object>"
            ],
            "application/javascript": [
              "download(\"download_674537c6-6796-4b12-9e47-d65cc63ec955\", \"conf_mat.png\", 33550)"
            ]
          },
          "metadata": {}
        },
        {
          "output_type": "stream",
          "name": "stdout",
          "text": [
            "Ploting Conf_Mat..................\n"
          ]
        },
        {
          "output_type": "display_data",
          "data": {
            "text/plain": [
              "<Figure size 432x288 with 0 Axes>"
            ]
          },
          "metadata": {}
        },
        {
          "output_type": "display_data",
          "data": {
            "text/plain": [
              "<Figure size 1008x1008 with 1 Axes>"
            ],
            "image/png": "[encoded data removed]"
          },
          "metadata": {}
        }
      ],
      "source": [
        "# ploting confision matrix\n",
        "\n",
        "y_pred = np.argmax(model.predict(x_test), axis=-1)\n",
        "y_test_mat=np.argmax(y_test, axis=1)\n",
        "mat = confusion_matrix(y_test_mat, y_pred)\n",
        "plt.figure()\n",
        "plot_confusion_matrix(conf_mat=mat, figsize=(14, 14))\n",
        "plt.savefig(\"conf_mat.png\")\n",
        "files.download(\"conf_mat.png\")\n",
        "print(\"Ploting Conf_Mat..................\")"
      ]
    }
  ],
  "metadata": {
    "accelerator": "GPU",
    "colab": {
      "provenance": []
    },
    "kernelspec": {
      "display_name": "Python 3",
      "name": "python3"
    }
  },
  "nbformat": 4,
  "nbformat_minor": 0
}